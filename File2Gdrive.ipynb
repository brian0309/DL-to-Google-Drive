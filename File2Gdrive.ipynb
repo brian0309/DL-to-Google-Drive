{
  "nbformat": 4,
  "nbformat_minor": 0,
  "metadata": {
    "colab": {
      "name": "File2Gdrive",
      "provenance": [],
      "collapsed_sections": [],
      "include_colab_link": true
    },
    "kernelspec": {
      "name": "python3",
      "display_name": "Python 3"
    }
  },
  "cells": [
    {
      "cell_type": "markdown",
      "metadata": {
        "id": "view-in-github",
        "colab_type": "text"
      },
      "source": [
        "<a href=\"https://colab.research.google.com/github/brian0309/DL-to-Google-Drive/blob/main/File2Gdrive.ipynb\" target=\"_parent\"><img src=\"https://colab.research.google.com/assets/colab-badge.svg\" alt=\"Open In Colab\"/></a>"
      ]
    },
    {
      "cell_type": "code",
      "metadata": {
        "id": "ijJo4LV-LAzC",
        "colab": {
          "base_uri": "https://localhost:8080/"
        },
        "outputId": "10a82bd8-b272-4509-838f-6af7a7a51230"
      },
      "source": [
        "#@title Google Colab Google Drive Downloader Thing { vertical-output: true }\n",
        "apt install -y aria2\n",
        "Target_Folder = \"\\\"/content/drive/MyDrive/Downloads\\\"\" #@param {type:\"string\"}\n",
        "Url = \"\" #@param {type:\"string\"}\n",
        "from google.colab import drive\n",
        "drive.mount('/content/drive')\n",
        " \n",
        "!mkdir $Target_Folder\n",
        "!cd $Target_Folder && aria2c -x2 $Url"
      ],
      "execution_count": null,
      "outputs": [
        {
          "output_type": "stream",
          "text": [
            "Mounted at /content/drive\n",
            "mkdir: cannot create directory ‘/content/drive/MyDrive/Downloads’: File exists\n",
            "--2021-03-30 05:56:34--  https://pop-iso.sfo2.cdn.digitaloceanspaces.com/20.04/amd64/nvidia/25/pop-os_20.04_amd64_nvidia_25.iso\n",
            "Resolving pop-iso.sfo2.cdn.digitaloceanspaces.com (pop-iso.sfo2.cdn.digitaloceanspaces.com)... 205.185.216.42, 205.185.216.10\n",
            "Connecting to pop-iso.sfo2.cdn.digitaloceanspaces.com (pop-iso.sfo2.cdn.digitaloceanspaces.com)|205.185.216.42|:443... connected.\n",
            "HTTP request sent, awaiting response... 200 OK\n",
            "Length: 2712600576 (2.5G) [application/octet-stream]\n",
            "Saving to: ‘pop-os_20.04_amd64_nvidia_25.iso’\n",
            "\n",
            "pop-os_20.04_amd64_ 100%[===================>]   2.53G  48.6MB/s    in 58s     \n",
            "\n",
            "2021-03-30 05:57:33 (44.5 MB/s) - ‘pop-os_20.04_amd64_nvidia_25.iso’ saved [2712600576/2712600576]\n",
            "\n"
          ],
          "name": "stdout"
        }
      ]
    }
  ]
}