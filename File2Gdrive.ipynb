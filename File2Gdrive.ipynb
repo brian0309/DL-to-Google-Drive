{
  "nbformat": 4,
  "nbformat_minor": 0,
  "metadata": {
    "colab": {
      "name": "File2Gdrive",
      "provenance": [],
      "collapsed_sections": [],
      "include_colab_link": true
    },
    "kernelspec": {
      "name": "python3",
      "display_name": "Python 3"
    }
  },
  "cells": [
    {
      "cell_type": "markdown",
      "metadata": {
        "id": "view-in-github",
        "colab_type": "text"
      },
      "source": [
        "<a href=\"https://colab.research.google.com/github/brian0309/DL-to-Google-Drive/blob/main/File2Gdrive.ipynb\" target=\"_parent\"><img src=\"https://colab.research.google.com/assets/colab-badge.svg\" alt=\"Open In Colab\"/></a>"
      ]
    },
    {
      "cell_type": "code",
      "metadata": {
        "id": "ijJo4LV-LAzC"
      },
      "source": [
        "#@title Google Colab Google Drive Downloader Thing { vertical-output: true }\n",
        "!apt install -y aria2\n",
        "Target_Folder = \"\\\"/content/drive/MyDrive/Downloads\\\"\" #@param {type:\"string\"}\n",
        "Url = \"\" #@param {type:\"string\"}\n",
        "from google.colab import drive\n",
        "drive.mount('/content/drive')\n",
        " \n",
        "!mkdir $Target_Folder\n",
        "!cd $Target_Folder && aria2c -x2 $Url"
      ],
      "execution_count": null,
      "outputs": []
    }
  ]
}